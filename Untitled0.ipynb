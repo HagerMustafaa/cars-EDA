{
  "nbformat": 4,
  "nbformat_minor": 0,
  "metadata": {
    "colab": {
      "provenance": [],
      "authorship_tag": "ABX9TyO4KduaNX09GVlOKQJOZZfv"
    },
    "kernelspec": {
      "name": "python3",
      "display_name": "Python 3"
    },
    "language_info": {
      "name": "python"
    }
  },
  "cells": [
    {
      "cell_type": "code",
      "execution_count": null,
      "metadata": {
        "id": "pnw_V3GpxL-l",
        "collapsed": true
      },
      "outputs": [],
      "source": [
        "from google.colab import drive\n",
        "drive.mount('/content/drive')"
      ]
    },
    {
      "cell_type": "code",
      "source": [
        "import pandas as pd\n",
        "\n",
        "\n",
        "file_path = '/content/drive/MyDrive/Colab Notebooks/vechiles.txt'\n",
        "df = pd.read_csv(file_path)\n",
        "print(df.head())"
      ],
      "metadata": {
        "id": "YnGV5L07Lvhe"
      },
      "execution_count": null,
      "outputs": []
    },
    {
      "cell_type": "code",
      "source": [
        "\n",
        "import pandas as pd\n",
        "import numpy as np\n",
        "import matplotlib.pyplot as plt\n",
        "import seaborn as sns\n",
        "\n",
        "\n",
        "%matplotlib inline"
      ],
      "metadata": {
        "id": "uZjYlMSNPn3T"
      },
      "execution_count": 9,
      "outputs": []
    },
    {
      "cell_type": "code",
      "source": [
        "\n",
        "df = pd.read_csv('/content/drive/MyDrive/Colab Notebooks/vechiles.txt')\n",
        "\n",
        "print(df.head())\n",
        "\n",
        "print(df.info())\n",
        "\n",
        "print(df.describe())"
      ],
      "metadata": {
        "id": "04t3Ux6HPzvc"
      },
      "execution_count": null,
      "outputs": []
    },
    {
      "cell_type": "code",
      "source": [
        "\n",
        "missing_data = df.isnull().sum()\n",
        "print(missing_data)\n",
        "\n",
        "\n",
        "missing_percent = (missing_data / len(df)) * 100\n",
        "print(missing_percent)"
      ],
      "metadata": {
        "id": "58jKnJrKP7Xo"
      },
      "execution_count": null,
      "outputs": []
    },
    {
      "cell_type": "code",
      "source": [
        "\n",
        "duplicates = df.duplicated().sum()\n",
        "print(f\"Number of duplicated rows: {duplicates}\")"
      ],
      "metadata": {
        "id": "m1RHi1qXQPxB"
      },
      "execution_count": null,
      "outputs": []
    },
    {
      "cell_type": "code",
      "source": [
        "print(df[df['price'] <= 0])\n",
        "\n",
        "print(df[(df['year'] < 1900) | (df['year'] > 2024)])"
      ],
      "metadata": {
        "id": "B_marXiGQUvb"
      },
      "execution_count": null,
      "outputs": []
    },
    {
      "cell_type": "code",
      "source": [
        "df.dropna(subset=['price', 'year', 'manufacturer', 'condition'], inplace=True)\n",
        "\n",
        "df.drop_duplicates(inplace=True)\n",
        "\n",
        "df = df[df['price'] > 1000]\n",
        "\n",
        "df = df[(df['year'] > 1900) & (df['year'] <= 2024)]\n",
        "\n",
        "print(df.info())"
      ],
      "metadata": {
        "id": "FNW1yWk0RK2R"
      },
      "execution_count": null,
      "outputs": []
    },
    {
      "cell_type": "code",
      "source": [
        "df['car_age'] = 2024 - df['year']\n",
        "\n",
        "def price_category(price):\n",
        "    if price < 5000:\n",
        "        return 'Low'\n",
        "    elif price < 20000:\n",
        "        return 'Medium'\n",
        "    else:\n",
        "        return 'High'\n",
        "\n",
        "df['price_category'] = df['price'].apply(price_category)"
      ],
      "metadata": {
        "id": "O0fWbjPlRuxL"
      },
      "execution_count": null,
      "outputs": []
    },
    {
      "cell_type": "markdown",
      "source": [
        "#EDA\n"
      ],
      "metadata": {
        "id": "_iU7tiTaUDhW"
      }
    },
    {
      "cell_type": "code",
      "source": [
        "top_manufacturers = df['manufacturer'].value_counts().head(10)\n",
        "top_manufacturers.plot(kind='bar', title='Top 10 Manufacturers', color='skyblue')\n",
        "plt.xlabel('Manufacturer')\n",
        "plt.ylabel('Number of Listings')\n",
        "plt.show()\n"
      ],
      "metadata": {
        "id": "Nbr3qcxWUJEQ"
      },
      "execution_count": null,
      "outputs": []
    },
    {
      "cell_type": "code",
      "source": [
        "plt.figure(figsize=(10, 6))\n",
        "sns.histplot(df['price'], bins=50, kde=True, color='green')\n",
        "plt.title('Price Distribution')\n",
        "plt.xlabel('Price')\n",
        "plt.ylabel('Frequency')\n",
        "plt.xlim(0, 100000)\n",
        "plt.show()\n"
      ],
      "metadata": {
        "id": "ut84WwVvUTe7"
      },
      "execution_count": null,
      "outputs": []
    },
    {
      "cell_type": "code",
      "source": [
        "avg_price_condition = df.groupby('condition')['price'].mean().sort_values()\n",
        "avg_price_condition.plot(kind='bar', title='Average Price by Condition', color='orange')\n",
        "plt.xlabel('Condition')\n",
        "plt.ylabel('Average Price')\n",
        "plt.show()\n"
      ],
      "metadata": {
        "id": "fHVuvPz8UZ28"
      },
      "execution_count": null,
      "outputs": []
    },
    {
      "cell_type": "code",
      "source": [
        "sns.scatterplot(data=df, x='year', y='price', alpha=0.5)\n",
        "plt.title('Year vs Price')\n",
        "plt.xlabel('Year')\n",
        "plt.ylabel('Price')\n",
        "plt.show()\n"
      ],
      "metadata": {
        "id": "0s13xvbIUaxf"
      },
      "execution_count": null,
      "outputs": []
    },
    {
      "cell_type": "code",
      "source": [
        "plt.figure(figsize=(12, 8))\n",
        "sns.countplot(data=df, x='type', hue='condition', palette='viridis', order=df['type'].value_counts().index[:10])\n",
        "plt.title('Car Types by Condition')\n",
        "plt.xlabel('Car Type')\n",
        "plt.ylabel('Number of Cars')\n",
        "plt.xticks(rotation=45)\n",
        "plt.show()"
      ],
      "metadata": {
        "id": "Evq7Wh32Uej2"
      },
      "execution_count": null,
      "outputs": []
    },
    {
      "cell_type": "markdown",
      "source": [
        "#Q"
      ],
      "metadata": {
        "id": "mU1V4YULUlHp"
      }
    },
    {
      "cell_type": "code",
      "source": [
        "import seaborn as sns\n",
        "plt.figure(figsize=(10, 6))\n",
        "sns.scatterplot(data=df, x='year', y='price', alpha=0.3)\n",
        "plt.title('Year of Manufacture vs Price')\n",
        "plt.xlabel('Year')\n",
        "plt.ylabel('Price')\n",
        "plt.show()"
      ],
      "metadata": {
        "id": "chKqObERUoro"
      },
      "execution_count": null,
      "outputs": []
    },
    {
      "cell_type": "code",
      "source": [
        "avg_price_by_state = df.groupby('state')['price'].mean().sort_values(ascending=False).head(10)\n",
        "avg_price_by_state.plot(kind='bar', title='Top 10 States by Average Price', color='teal')\n",
        "plt.xlabel('State')\n",
        "plt.ylabel('Average Price')\n",
        "plt.show()"
      ],
      "metadata": {
        "id": "y_7FZUArU3NS"
      },
      "execution_count": null,
      "outputs": []
    },
    {
      "cell_type": "code",
      "source": [
        "avg_price_by_condition = df.groupby('condition')['price'].mean().sort_values()\n",
        "print(avg_price_by_condition)"
      ],
      "metadata": {
        "id": "_KQZQiMeVAFS"
      },
      "execution_count": null,
      "outputs": []
    },
    {
      "cell_type": "code",
      "source": [
        "avg_price_by_condition.plot(kind='bar', color='purple', figsize=(10, 6))\n",
        "plt.title('Average Price by Condition')\n",
        "plt.xlabel('Condition')\n",
        "plt.ylabel('Average Price')\n",
        "plt.show()"
      ],
      "metadata": {
        "id": "ss3u5JEjVA-l"
      },
      "execution_count": null,
      "outputs": []
    },
    {
      "cell_type": "code",
      "source": [
        "plt.figure(figsize=(10, 6))\n",
        "sns.scatterplot(data=df, x='odometer', y='price', alpha=0.3, color='green')\n",
        "plt.title('Odometer Reading vs Price')\n",
        "plt.xlabel('Odometer (Mileage)')\n",
        "plt.ylabel('Price')\n",
        "plt.xlim(0, 300000)\n",
        "plt.ylim(0, 100000)\n",
        "plt.show()"
      ],
      "metadata": {
        "id": "dv2Zf1UyVTPS"
      },
      "execution_count": null,
      "outputs": []
    },
    {
      "cell_type": "code",
      "source": [
        "\n",
        "fuel_distribution = df['fuel'].value_counts()\n",
        "\n",
        "print(fuel_distribution)\n"
      ],
      "metadata": {
        "id": "piAZONaZVbdv"
      },
      "execution_count": null,
      "outputs": []
    },
    {
      "cell_type": "code",
      "source": [
        "fuel_distribution.plot(kind='bar', color='brown', figsize=(10, 6))\n",
        "plt.title('Fuel Types Distribution')\n",
        "plt.xlabel('Fuel Type')\n",
        "plt.ylabel('Number of Listings')\n",
        "plt.show()"
      ],
      "metadata": {
        "id": "Hdqe745vViMG"
      },
      "execution_count": null,
      "outputs": []
    },
    {
      "cell_type": "code",
      "source": [
        "\n",
        "top_brands = df['manufacturer'].value_counts().head(10)\n",
        "\n",
        "\n",
        "print(top_brands)"
      ],
      "metadata": {
        "id": "W8lYJrvqVoDj"
      },
      "execution_count": null,
      "outputs": []
    },
    {
      "cell_type": "code",
      "source": [
        "import matplotlib.pyplot as plt\n",
        "top_brands.plot(kind='bar', color='skyblue', figsize=(10, 6))\n",
        "plt.title('Top 10 Car Manufacturers')\n",
        "plt.xlabel('Manufacturer')\n",
        "plt.ylabel('Number of Listings')\n",
        "plt.show()\n"
      ],
      "metadata": {
        "id": "51m2JnP6Vvok"
      },
      "execution_count": null,
      "outputs": []
    },
    {
      "cell_type": "code",
      "source": [
        "condition_distribution = df['condition'].value_counts()\n",
        "\n",
        "print(condition_distribution)"
      ],
      "metadata": {
        "id": "7dkrxw4qV1ol"
      },
      "execution_count": null,
      "outputs": []
    },
    {
      "cell_type": "code",
      "source": [
        "\n",
        "condition_distribution.plot(kind='pie', autopct='%1.1f%%', figsize=(8, 8))\n",
        "plt.title('Condition of Cars')\n",
        "plt.ylabel('')\n",
        "plt.show()"
      ],
      "metadata": {
        "id": "jCjcH4yCV_Xw"
      },
      "execution_count": null,
      "outputs": []
    },
    {
      "cell_type": "markdown",
      "source": [
        "#done"
      ],
      "metadata": {
        "id": "5N8-_rKOWF5K"
      }
    },
    {
      "cell_type": "code",
      "source": [
        "df.to_csv('EDA_vehicles.csv', index=False)\n",
        "\n",
        "print(\"Cleaned data saved \")"
      ],
      "metadata": {
        "id": "X_eo7WX4WI25"
      },
      "execution_count": null,
      "outputs": []
    }
  ]
}